{
  "nbformat": 4,
  "nbformat_minor": 0,
  "metadata": {
    "colab": {
      "provenance": [],
      "authorship_tag": "ABX9TyMcD7XGH8fNWXEWC6PG/Fzz",
      "include_colab_link": true
    },
    "kernelspec": {
      "name": "python3",
      "display_name": "Python 3"
    },
    "language_info": {
      "name": "python"
    }
  },
  "cells": [
    {
      "cell_type": "markdown",
      "metadata": {
        "id": "view-in-github",
        "colab_type": "text"
      },
      "source": [
        "<a href=\"https://colab.research.google.com/github/JiteshArul/Reddit_Analytics/blob/main/Reddit_Analytics.ipynb\" target=\"_parent\"><img src=\"https://colab.research.google.com/assets/colab-badge.svg\" alt=\"Open In Colab\"/></a>"
      ]
    },
    {
      "cell_type": "markdown",
      "source": [
        "## Installation of required packages"
      ],
      "metadata": {
        "id": "G-ubkuFC8j64"
      }
    },
    {
      "cell_type": "code",
      "source": [
        "!pip install fake_useragent"
      ],
      "metadata": {
        "colab": {
          "base_uri": "https://localhost:8080/"
        },
        "id": "iRC9Bp9RRgwq",
        "outputId": "9bd0370e-6e84-4dc5-99eb-4174412f4f2a"
      },
      "execution_count": 1,
      "outputs": [
        {
          "output_type": "stream",
          "name": "stdout",
          "text": [
            "Looking in indexes: https://pypi.org/simple, https://us-python.pkg.dev/colab-wheels/public/simple/\n",
            "Collecting fake_useragent\n",
            "  Downloading fake_useragent-1.1.1-py3-none-any.whl (50 kB)\n",
            "\u001b[K     |████████████████████████████████| 50 kB 2.9 MB/s \n",
            "\u001b[?25hRequirement already satisfied: importlib-resources>=5.0 in /usr/local/lib/python3.8/dist-packages (from fake_useragent) (5.10.1)\n",
            "Requirement already satisfied: zipp>=3.1.0 in /usr/local/lib/python3.8/dist-packages (from importlib-resources>=5.0->fake_useragent) (3.11.0)\n",
            "Installing collected packages: fake-useragent\n",
            "Successfully installed fake-useragent-1.1.1\n"
          ]
        }
      ]
    },
    {
      "cell_type": "markdown",
      "source": [
        "## Importing Required packages"
      ],
      "metadata": {
        "id": "xEP0Cd3P8628"
      }
    },
    {
      "cell_type": "code",
      "source": [
        "from bs4 import BeautifulSoup\n",
        "import requests\n",
        "from fake_useragent import UserAgent"
      ],
      "metadata": {
        "id": "aN9Y9te1LMmK"
      },
      "execution_count": 2,
      "outputs": []
    },
    {
      "cell_type": "markdown",
      "source": [
        "## Creating a function to scrape the post links from reddit"
      ],
      "metadata": {
        "id": "52ZPCMa89A0Z"
      }
    },
    {
      "cell_type": "code",
      "source": [
        "ua = UserAgent()\n",
        "#Get number of links to posts of Reddit\n",
        "def get_reddit_links(html_link):\n",
        "\n",
        "  last_item=html_link\n",
        "  linklist=[]\n",
        "\n",
        "  #Defining number of pages to scrape\n",
        "  for i in range(10):\n",
        "    html= requests.get(f\"{last_item}\", headers={'User-Agent': ua.chrome})\n",
        "    soup = BeautifulSoup(html.text, 'lxml')\n",
        "    links=soup.findAll('a', {'class': 'bylink'},href=True)\n",
        "\n",
        "    # Using next page link for next iteration\n",
        "    next_page=soup.findAll('a',{'rel': 'nofollow next'})\n",
        "    last_item=next_page[0]['href']\n",
        "\n",
        "    #saving each link in a variable\n",
        "    for link in links:\n",
        "      linklist.append(link['href'])\n",
        "\n",
        "  return linklist\n"
      ],
      "metadata": {
        "id": "vgLhJt4akEvL"
      },
      "execution_count": 3,
      "outputs": []
    }
  ]
}